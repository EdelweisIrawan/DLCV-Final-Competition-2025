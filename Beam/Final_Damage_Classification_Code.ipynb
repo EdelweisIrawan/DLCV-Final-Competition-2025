{
 "cells": [
  {
   "cell_type": "code",
   "execution_count": 182,
   "id": "014919d1",
   "metadata": {},
   "outputs": [],
   "source": [
    "%matplotlib inline\n",
    "import pandas as pd\n",
    "import numpy as np\n",
    "import random\n",
    "import torch\n",
    "import torch.nn as nn\n",
    "import torch.nn.functional as F  \n",
    "import torch.optim as optim\n",
    "from torch.utils.data import Dataset, DataLoader\n",
    "import matplotlib.pyplot as plt\n",
    "from tqdm import tqdm\n",
    "from sklearn.preprocessing import MinMaxScaler\n",
    "import cv2\n",
    "import torchvision\n",
    "import torchvision.transforms as transforms\n",
    "from torch.utils.data import random_split\n",
    "import sys\n",
    "import time\n",
    "import timm\n",
    "from PIL import Image\n",
    "from torch.optim.lr_scheduler import StepLR, CosineAnnealingLR, ReduceLROnPlateau\n"
   ]
  },
  {
   "cell_type": "code",
   "execution_count": 183,
   "id": "45da4dcc",
   "metadata": {},
   "outputs": [],
   "source": [
    "def set_seed(seed=1220):\n",
    "    random.seed(seed)\n",
    "    np.random.seed(seed)\n",
    "    torch.manual_seed(seed)\n",
    "    torch.cuda.manual_seed(seed)  # If using GPU\n",
    "    torch.backends.cudnn.deterministic = True\n",
    "    torch.backends.cudnn.benchmark = False"
   ]
  },
  {
   "cell_type": "code",
   "execution_count": 184,
   "id": "ec854a57",
   "metadata": {},
   "outputs": [
    {
     "name": "stdout",
     "output_type": "stream",
     "text": [
      "You are using device: cuda\n",
      "You are using PyTorch version: 2.5.1+cu118\n"
     ]
    }
   ],
   "source": [
    "# Check if GPU is available\n",
    "device = torch.device('cuda' if torch.cuda.is_available() else 'cpu')\n",
    "print(\"You are using device: %s\" % device)\n",
    "print(\"You are using PyTorch version: %s\" % torch.__version__)\n",
    "\n",
    "torch.backends.cudnn.benchmark = True\n",
    "torch.backends.cudnn.enabled = True\n",
    "\n",
    "# define class names\n",
    "classes = ('A','B','C')\n",
    "\n",
    "path_dataset = 'damage-classification-beam/dataset_beam/beam_damage'"
   ]
  },
  {
   "cell_type": "code",
   "execution_count": 185,
   "id": "dd33da17",
   "metadata": {},
   "outputs": [
    {
     "name": "stdout",
     "output_type": "stream",
     "text": [
      "Dataset classes: {0: 'Class A', 1: 'Class B', 2: 'Class C'}\n",
      "Using predefined class names\n"
     ]
    }
   ],
   "source": [
    "def load_dataset(path_dataset):\n",
    "    transform_train = transforms.Compose([\n",
    "        transforms.Resize([224, 224]),   # Resize first\n",
    "        transforms.RandomChoice([\n",
    "        transforms.RandomHorizontalFlip(),\n",
    "        transforms.RandomRotation(degrees=15),\n",
    "        ]),\n",
    "        transforms.ToTensor(),\n",
    "        transforms.Normalize(mean=[0.485, 0.456, 0.406],std=[0.229, 0.224, 0.225] )\n",
    "    ])\n",
    "    \n",
    "    # Data transformations for testing\n",
    "    transform_test = transforms.Compose([\n",
    "        transforms.Resize((224, 224)),\n",
    "        transforms.ToTensor(),\n",
    "        transforms.Normalize(mean=[0.485, 0.456, 0.406],std=[0.229, 0.224, 0.225] )\n",
    "    ])\n",
    "    \n",
    "    # load custom dataset\n",
    "    full_dataset = torchvision.datasets.ImageFolder(\n",
    "        root=path_dataset,\n",
    "        transform=transform_train\n",
    "    )\n",
    "    \n",
    "    # Split dataset into training and validation sets (8:2)\n",
    "    dataset_size = len(full_dataset)\n",
    "    train_size = int(0.9 * dataset_size)\n",
    "    val_size = dataset_size - train_size\n",
    "    \n",
    "    trainset, valset = random_split(full_dataset, [train_size, val_size])\n",
    "    \n",
    "    # Create data loaders\n",
    "    trainloader = DataLoader(\n",
    "        trainset, batch_size=60, shuffle=True, num_workers=2\n",
    "    )\n",
    "    \n",
    "    valloader = DataLoader(\n",
    "        valset, batch_size=60, shuffle=True, num_workers=2\n",
    "    )\n",
    "    \n",
    "    \n",
    "    # Map folder names to class names\n",
    "    class_map = {i: full_dataset.classes[i] for i in range(len(full_dataset.classes))}\n",
    "    print(f\"Dataset classes: {class_map}\")\n",
    "\n",
    "    global classes\n",
    "    if len(full_dataset.classes) == len(classes):\n",
    "        print(\"Using predefined class names\")\n",
    "    else:\n",
    "        print(\"Using classes from dataset folder structure\")\n",
    "        classes = full_dataset.classes\n",
    "    \n",
    "    return trainloader, valloader\n",
    "\n",
    "# Load dataset\n",
    "trainloader, valloader = load_dataset(path_dataset)"
   ]
  },
  {
   "cell_type": "code",
   "execution_count": null,
   "id": "bb7c87dc",
   "metadata": {},
   "outputs": [
    {
     "ename": "TypeError",
     "evalue": "train() missing 1 required positional argument: 'device'",
     "output_type": "error",
     "traceback": [
      "\u001b[31m---------------------------------------------------------------------------\u001b[39m",
      "\u001b[31mTypeError\u001b[39m                                 Traceback (most recent call last)",
      "\u001b[36mCell\u001b[39m\u001b[36m \u001b[39m\u001b[32mIn[176]\u001b[39m\u001b[32m, line 177\u001b[39m\n\u001b[32m    174\u001b[39m model = get_resnet50_hybrid_model(num_classes, freeze=\u001b[38;5;28;01mTrue\u001b[39;00m).to(device)\n\u001b[32m    176\u001b[39m \u001b[38;5;66;03m# Phase 1: Train only fc layer\u001b[39;00m\n\u001b[32m--> \u001b[39m\u001b[32m177\u001b[39m model, _, _, _, _ = \u001b[43mtrain\u001b[49m\u001b[43m(\u001b[49m\u001b[43mmodel\u001b[49m\u001b[43m,\u001b[49m\u001b[43m \u001b[49m\u001b[43mtrainloader\u001b[49m\u001b[43m,\u001b[49m\u001b[43m \u001b[49m\u001b[43mvalloader\u001b[49m\u001b[43m,\u001b[49m\u001b[43m \u001b[49m\u001b[43mmax_epochs\u001b[49m\u001b[43m=\u001b[49m\u001b[32;43m5\u001b[39;49m\u001b[43m,\u001b[49m\u001b[43m \u001b[49m\u001b[43mpatience\u001b[49m\u001b[43m=\u001b[49m\u001b[32;43m3\u001b[39;49m\u001b[43m)\u001b[49m\n\u001b[32m    179\u001b[39m \u001b[38;5;66;03m# Phase 2: Unfreeze all and fine-tune\u001b[39;00m\n\u001b[32m    180\u001b[39m \u001b[38;5;28;01mfor\u001b[39;00m param \u001b[38;5;129;01min\u001b[39;00m model.parameters():\n",
      "\u001b[31mTypeError\u001b[39m: train() missing 1 required positional argument: 'device'"
     ]
    }
   ],
   "source": [
    "from torchvision.models import resnet50, ResNet50_Weights\n",
    "from torch.optim.lr_scheduler import ReduceLROnPlateau\n",
    "import torch.nn as nn\n",
    "import torch\n",
    "import numpy as np\n",
    "from tqdm import tqdm\n",
    "import random\n",
    "\n",
    "# ----------------- Hybrid ResNet50 --------------------\n",
    "def get_resnet50_hybrid_model(num_classes, freeze=True):\n",
    "    model = resnet50(weights=ResNet50_Weights.DEFAULT)\n",
    "    model.fc = nn.Linear(model.fc.in_features, num_classes)\n",
    "\n",
    "    if freeze:\n",
    "        for param in model.parameters():\n",
    "            param.requires_grad = False\n",
    "        for param in model.fc.parameters():\n",
    "            param.requires_grad = True\n",
    "    return model\n",
    "\n",
    "# ----------------- MixUp Functions --------------------\n",
    "def mixup_data(x, y, alpha=1.0):\n",
    "    if alpha > 0:\n",
    "        lam = np.random.beta(alpha, alpha)\n",
    "    else:\n",
    "        lam = 1\n",
    "\n",
    "    batch_size = x.size(0)\n",
    "    index = torch.randperm(batch_size).to(x.device)\n",
    "\n",
    "    mixed_x = lam * x + (1 - lam) * x[index, :]\n",
    "    y_a, y_b = y, y[index]\n",
    "    return mixed_x, y_a, y_b, lam\n",
    "\n",
    "def mixup_criterion(criterion, pred, y_a, y_b, lam):\n",
    "    return lam * criterion(pred, y_a) + (1 - lam) * criterion(pred, y_b)\n",
    "\n",
    "# ----------------- Seed Function --------------------\n",
    "def set_seed(seed):\n",
    "    random.seed(seed)\n",
    "    np.random.seed(seed)\n",
    "    torch.manual_seed(seed)\n",
    "    torch.cuda.manual_seed_all(seed)\n",
    "\n",
    "# ----------------- Training Loop --------------------\n",
    "def train(model, trainloader, valloader, max_epochs=50, patience=10, min_delta=0.01, mixup_alpha=0.4):\n",
    "    criterion = nn.CrossEntropyLoss()\n",
    "    optimizer = torch.optim.AdamW(filter(lambda p: p.requires_grad, model.parameters()), lr=1e-3, weight_decay=1e-4)\n",
    "    scheduler = ReduceLROnPlateau(optimizer, mode='min', factor=0.5, patience=5)\n",
    "\n",
    "    best_val_loss = float('inf')\n",
    "    epochs_no_improve = 0\n",
    "    best_model_wts = model.state_dict()\n",
    "\n",
    "    train_losses, train_accuracies = [], []\n",
    "    val_losses, val_accuracies = [], []\n",
    "\n",
    "    for epoch in range(max_epochs):\n",
    "        model.train()\n",
    "        running_loss, correct, total = 0.0, 0, 0\n",
    "        loop = tqdm(enumerate(trainloader), total=len(trainloader), leave=True)\n",
    "\n",
    "        for i, data in loop:\n",
    "            inputs, labels = data\n",
    "            inputs, labels = inputs.to(device), labels.to(device)\n",
    "            optimizer.zero_grad()\n",
    "\n",
    "            # Apply MixUp\n",
    "            inputs, targets_a, targets_b, lam = mixup_data(inputs, labels, alpha=mixup_alpha)\n",
    "            outputs = model(inputs)\n",
    "            loss = mixup_criterion(criterion, outputs, targets_a, targets_b, lam)\n",
    "\n",
    "            loss.backward()\n",
    "            optimizer.step()\n",
    "\n",
    "            _, predicted = torch.max(outputs.data, 1)\n",
    "            total += labels.size(0)\n",
    "            correct += (lam * (predicted == targets_a).sum().item() + (1 - lam) * (predicted == targets_b).sum().item())\n",
    "            running_loss += loss.item()\n",
    "\n",
    "            loop.set_description(f\"Epoch [{epoch+1}/{max_epochs}]\")\n",
    "            loop.set_postfix(loss=running_loss/(i+1), accuracy=100.*correct/total)\n",
    "\n",
    "        epoch_train_loss = running_loss / len(trainloader)\n",
    "        epoch_train_acc = 100. * correct / total\n",
    "        train_losses.append(epoch_train_loss)\n",
    "        train_accuracies.append(epoch_train_acc)\n",
    "\n",
    "        # ---------- Validation ----------\n",
    "        model.eval()\n",
    "        val_running_loss, val_correct, val_total = 0.0, 0, 0\n",
    "\n",
    "        with torch.no_grad():\n",
    "            for data in valloader:\n",
    "                images, labels = data\n",
    "                images, labels = images.to(device), labels.to(device)\n",
    "                outputs = model(images)\n",
    "                loss = criterion(outputs, labels)\n",
    "\n",
    "                val_running_loss += loss.item()\n",
    "                _, predicted = torch.max(outputs.data, 1)\n",
    "                val_total += labels.size(0)\n",
    "                val_correct += (predicted == labels).sum().item()\n",
    "\n",
    "        epoch_val_loss = val_running_loss / len(valloader)\n",
    "        epoch_val_acc = 100. * val_correct / val_total\n",
    "        val_losses.append(epoch_val_loss)\n",
    "        val_accuracies.append(epoch_val_acc)\n",
    "\n",
    "        scheduler.step(epoch_val_loss)\n",
    "\n",
    "        print(f\"\\nEpoch {epoch+1}/{max_epochs}\")\n",
    "        print(f\"Train Loss: {epoch_train_loss:.4f}, Acc: {epoch_train_acc:.2f}%\")\n",
    "        print(f\"Val   Loss: {epoch_val_loss:.4f}, Acc: {epoch_val_acc:.2f}%\")\n",
    "        print(\"-\" * 60)\n",
    "\n",
    "        # Save best model\n",
    "        if epoch_val_loss + min_delta < best_val_loss:\n",
    "            best_val_loss = epoch_val_loss\n",
    "            epochs_no_improve = 0\n",
    "            best_model_wts = model.state_dict()\n",
    "        else:\n",
    "            epochs_no_improve += 1\n",
    "            print(f\"No improvement for {epochs_no_improve} epochs.\")\n",
    "\n",
    "        if epochs_no_improve >= patience:\n",
    "            print(\"Early stopping triggered!\")\n",
    "            break\n",
    "\n",
    "    print(\"Finished Training\")\n",
    "    model.load_state_dict(best_model_wts)\n",
    "    return model, train_losses, train_accuracies, val_losses, val_accuracies\n",
    "\n",
    "# ----------------- Example Usage --------------------\n",
    "set_seed(1220)\n",
    "\n",
    "num_classes = 3  # change to your dataset\n",
    "model = get_resnet50_hybrid_model(num_classes, freeze=True).to(device)\n",
    "\n",
    "# Phase 1: Train only fc layer\n",
    "model, _, _, _, _ = train(model, trainloader, valloader, max_epochs=5, patience=3)\n",
    "\n",
    "# Phase 2: Unfreeze all and fine-tune\n",
    "for param in model.parameters():\n",
    "    param.requires_grad = True\n",
    "\n",
    "# Use lower LR when fine-tuning the full model\n",
    "for g in torch.optim.AdamW(model.parameters()).param_groups:\n",
    "    g['lr'] = 1e-5\n",
    "\n",
    "model, train_losses, train_accuracies, val_losses, val_accuracies = train(\n",
    "    model, trainloader, valloader, max_epochs=50, patience=10, mixup_alpha=0.4\n",
    ")\n"
   ]
  },
  {
   "cell_type": "code",
   "execution_count": 187,
   "id": "ed9695fb",
   "metadata": {},
   "outputs": [
    {
     "name": "stderr",
     "output_type": "stream",
     "text": [
      "Epoch [1/5]: 100%|██████████| 7/7 [00:00<00:00, 16.19it/s, accuracy=41.6, loss=1.08]\n"
     ]
    },
    {
     "name": "stdout",
     "output_type": "stream",
     "text": [
      "\n",
      "Epoch 1/5\n",
      "Train Loss: 1.0795, Acc: 41.63%\n",
      "Val   Loss: 1.0066, Acc: 39.02%\n",
      "------------------------------------------------------------\n"
     ]
    },
    {
     "name": "stderr",
     "output_type": "stream",
     "text": [
      "Epoch [2/5]: 100%|██████████| 7/7 [00:00<00:00, 16.73it/s, accuracy=50.8, loss=1.05] \n"
     ]
    },
    {
     "name": "stdout",
     "output_type": "stream",
     "text": [
      "\n",
      "Epoch 2/5\n",
      "Train Loss: 1.0483, Acc: 50.84%\n",
      "Val   Loss: 0.9174, Acc: 65.85%\n",
      "------------------------------------------------------------\n"
     ]
    },
    {
     "name": "stderr",
     "output_type": "stream",
     "text": [
      "Epoch [3/5]: 100%|██████████| 7/7 [00:00<00:00, 16.36it/s, accuracy=61.3, loss=0.937]\n"
     ]
    },
    {
     "name": "stdout",
     "output_type": "stream",
     "text": [
      "\n",
      "Epoch 3/5\n",
      "Train Loss: 0.9373, Acc: 61.28%\n",
      "Val   Loss: 0.9403, Acc: 46.34%\n",
      "------------------------------------------------------------\n",
      "No improvement for 1 epochs.\n"
     ]
    },
    {
     "name": "stderr",
     "output_type": "stream",
     "text": [
      "Epoch [4/5]: 100%|██████████| 7/7 [00:00<00:00, 17.02it/s, accuracy=54.4, loss=0.993]\n"
     ]
    },
    {
     "name": "stdout",
     "output_type": "stream",
     "text": [
      "\n",
      "Epoch 4/5\n",
      "Train Loss: 0.9929, Acc: 54.44%\n",
      "Val   Loss: 0.8716, Acc: 75.61%\n",
      "------------------------------------------------------------\n"
     ]
    },
    {
     "name": "stderr",
     "output_type": "stream",
     "text": [
      "Epoch [5/5]: 100%|██████████| 7/7 [00:00<00:00, 16.43it/s, accuracy=67.1, loss=0.93] \n"
     ]
    },
    {
     "name": "stdout",
     "output_type": "stream",
     "text": [
      "\n",
      "Epoch 5/5\n",
      "Train Loss: 0.9304, Acc: 67.09%\n",
      "Val   Loss: 0.8391, Acc: 70.73%\n",
      "------------------------------------------------------------\n",
      "Finished Training\n"
     ]
    },
    {
     "name": "stderr",
     "output_type": "stream",
     "text": [
      "Epoch [1/50]: 100%|██████████| 7/7 [00:00<00:00, 10.21it/s, accuracy=68.6, loss=0.734]\n"
     ]
    },
    {
     "name": "stdout",
     "output_type": "stream",
     "text": [
      "\n",
      "Epoch 1/50\n",
      "Train Loss: 0.7336, Acc: 68.59%\n",
      "Val   Loss: 0.9934, Acc: 60.98%\n",
      "------------------------------------------------------------\n"
     ]
    },
    {
     "name": "stderr",
     "output_type": "stream",
     "text": [
      "Epoch [2/50]: 100%|██████████| 7/7 [00:00<00:00, 10.47it/s, accuracy=75.9, loss=0.724]\n"
     ]
    },
    {
     "name": "stdout",
     "output_type": "stream",
     "text": [
      "\n",
      "Epoch 2/50\n",
      "Train Loss: 0.7244, Acc: 75.93%\n",
      "Val   Loss: 1.2686, Acc: 41.46%\n",
      "------------------------------------------------------------\n",
      "No improvement for 1 epochs.\n"
     ]
    },
    {
     "name": "stderr",
     "output_type": "stream",
     "text": [
      "Epoch [3/50]: 100%|██████████| 7/7 [00:00<00:00, 10.33it/s, accuracy=71.7, loss=0.823]\n"
     ]
    },
    {
     "name": "stdout",
     "output_type": "stream",
     "text": [
      "\n",
      "Epoch 3/50\n",
      "Train Loss: 0.8229, Acc: 71.67%\n",
      "Val   Loss: 0.8526, Acc: 70.73%\n",
      "------------------------------------------------------------\n"
     ]
    },
    {
     "name": "stderr",
     "output_type": "stream",
     "text": [
      "Epoch [4/50]: 100%|██████████| 7/7 [00:00<00:00, 10.51it/s, accuracy=76, loss=0.79]   \n"
     ]
    },
    {
     "name": "stdout",
     "output_type": "stream",
     "text": [
      "\n",
      "Epoch 4/50\n",
      "Train Loss: 0.7903, Acc: 75.99%\n",
      "Val   Loss: 0.6669, Acc: 78.05%\n",
      "------------------------------------------------------------\n"
     ]
    },
    {
     "name": "stderr",
     "output_type": "stream",
     "text": [
      "Epoch [5/50]: 100%|██████████| 7/7 [00:00<00:00, 10.37it/s, accuracy=85.3, loss=0.61] \n"
     ]
    },
    {
     "name": "stdout",
     "output_type": "stream",
     "text": [
      "\n",
      "Epoch 5/50\n",
      "Train Loss: 0.6104, Acc: 85.28%\n",
      "Val   Loss: 0.6879, Acc: 78.05%\n",
      "------------------------------------------------------------\n",
      "No improvement for 1 epochs.\n"
     ]
    },
    {
     "name": "stderr",
     "output_type": "stream",
     "text": [
      "Epoch [6/50]: 100%|██████████| 7/7 [00:00<00:00, 10.31it/s, accuracy=90.3, loss=0.393]\n"
     ]
    },
    {
     "name": "stdout",
     "output_type": "stream",
     "text": [
      "\n",
      "Epoch 6/50\n",
      "Train Loss: 0.3929, Acc: 90.33%\n",
      "Val   Loss: 0.5026, Acc: 75.61%\n",
      "------------------------------------------------------------\n"
     ]
    },
    {
     "name": "stderr",
     "output_type": "stream",
     "text": [
      "Epoch [7/50]: 100%|██████████| 7/7 [00:00<00:00, 10.39it/s, accuracy=81.1, loss=0.599]\n"
     ]
    },
    {
     "name": "stdout",
     "output_type": "stream",
     "text": [
      "\n",
      "Epoch 7/50\n",
      "Train Loss: 0.5991, Acc: 81.07%\n",
      "Val   Loss: 0.7540, Acc: 70.73%\n",
      "------------------------------------------------------------\n",
      "No improvement for 1 epochs.\n"
     ]
    },
    {
     "name": "stderr",
     "output_type": "stream",
     "text": [
      "Epoch [8/50]: 100%|██████████| 7/7 [00:00<00:00, 10.54it/s, accuracy=85.9, loss=0.609]\n"
     ]
    },
    {
     "name": "stdout",
     "output_type": "stream",
     "text": [
      "\n",
      "Epoch 8/50\n",
      "Train Loss: 0.6087, Acc: 85.95%\n",
      "Val   Loss: 0.7166, Acc: 73.17%\n",
      "------------------------------------------------------------\n",
      "No improvement for 2 epochs.\n"
     ]
    },
    {
     "name": "stderr",
     "output_type": "stream",
     "text": [
      "Epoch [9/50]: 100%|██████████| 7/7 [00:00<00:00, 10.57it/s, accuracy=84.8, loss=0.562]\n"
     ]
    },
    {
     "name": "stdout",
     "output_type": "stream",
     "text": [
      "\n",
      "Epoch 9/50\n",
      "Train Loss: 0.5616, Acc: 84.79%\n",
      "Val   Loss: 0.7217, Acc: 68.29%\n",
      "------------------------------------------------------------\n",
      "No improvement for 3 epochs.\n"
     ]
    },
    {
     "name": "stderr",
     "output_type": "stream",
     "text": [
      "Epoch [10/50]: 100%|██████████| 7/7 [00:00<00:00, 10.33it/s, accuracy=72, loss=0.763]  \n"
     ]
    },
    {
     "name": "stdout",
     "output_type": "stream",
     "text": [
      "\n",
      "Epoch 10/50\n",
      "Train Loss: 0.7629, Acc: 71.95%\n",
      "Val   Loss: 0.7756, Acc: 65.85%\n",
      "------------------------------------------------------------\n",
      "No improvement for 4 epochs.\n"
     ]
    },
    {
     "name": "stderr",
     "output_type": "stream",
     "text": [
      "Epoch [11/50]: 100%|██████████| 7/7 [00:00<00:00, 10.48it/s, accuracy=85.8, loss=0.54] \n"
     ]
    },
    {
     "name": "stdout",
     "output_type": "stream",
     "text": [
      "\n",
      "Epoch 11/50\n",
      "Train Loss: 0.5397, Acc: 85.83%\n",
      "Val   Loss: 0.4698, Acc: 78.05%\n",
      "------------------------------------------------------------\n"
     ]
    },
    {
     "name": "stderr",
     "output_type": "stream",
     "text": [
      "Epoch [12/50]: 100%|██████████| 7/7 [00:00<00:00, 10.33it/s, accuracy=79, loss=0.57]   \n"
     ]
    },
    {
     "name": "stdout",
     "output_type": "stream",
     "text": [
      "\n",
      "Epoch 12/50\n",
      "Train Loss: 0.5703, Acc: 78.98%\n",
      "Val   Loss: 0.6968, Acc: 73.17%\n",
      "------------------------------------------------------------\n",
      "No improvement for 1 epochs.\n"
     ]
    },
    {
     "name": "stderr",
     "output_type": "stream",
     "text": [
      "Epoch [13/50]: 100%|██████████| 7/7 [00:00<00:00, 10.34it/s, accuracy=76.4, loss=0.659]\n"
     ]
    },
    {
     "name": "stdout",
     "output_type": "stream",
     "text": [
      "\n",
      "Epoch 13/50\n",
      "Train Loss: 0.6589, Acc: 76.43%\n",
      "Val   Loss: 0.7596, Acc: 70.73%\n",
      "------------------------------------------------------------\n",
      "No improvement for 2 epochs.\n"
     ]
    },
    {
     "name": "stderr",
     "output_type": "stream",
     "text": [
      "Epoch [14/50]: 100%|██████████| 7/7 [00:00<00:00, 10.51it/s, accuracy=86.1, loss=0.559]\n"
     ]
    },
    {
     "name": "stdout",
     "output_type": "stream",
     "text": [
      "\n",
      "Epoch 14/50\n",
      "Train Loss: 0.5586, Acc: 86.11%\n",
      "Val   Loss: 0.6435, Acc: 78.05%\n",
      "------------------------------------------------------------\n",
      "No improvement for 3 epochs.\n"
     ]
    },
    {
     "name": "stderr",
     "output_type": "stream",
     "text": [
      "Epoch [15/50]: 100%|██████████| 7/7 [00:00<00:00, 10.19it/s, accuracy=74.2, loss=0.846]\n"
     ]
    },
    {
     "name": "stdout",
     "output_type": "stream",
     "text": [
      "\n",
      "Epoch 15/50\n",
      "Train Loss: 0.8464, Acc: 74.17%\n",
      "Val   Loss: 0.7953, Acc: 68.29%\n",
      "------------------------------------------------------------\n",
      "No improvement for 4 epochs.\n"
     ]
    },
    {
     "name": "stderr",
     "output_type": "stream",
     "text": [
      "Epoch [16/50]: 100%|██████████| 7/7 [00:00<00:00, 10.28it/s, accuracy=77.7, loss=0.776]\n"
     ]
    },
    {
     "name": "stdout",
     "output_type": "stream",
     "text": [
      "\n",
      "Epoch 16/50\n",
      "Train Loss: 0.7758, Acc: 77.71%\n",
      "Val   Loss: 0.9514, Acc: 58.54%\n",
      "------------------------------------------------------------\n",
      "No improvement for 5 epochs.\n"
     ]
    },
    {
     "name": "stderr",
     "output_type": "stream",
     "text": [
      "Epoch [17/50]: 100%|██████████| 7/7 [00:00<00:00, 10.37it/s, accuracy=72.8, loss=0.754]\n"
     ]
    },
    {
     "name": "stdout",
     "output_type": "stream",
     "text": [
      "\n",
      "Epoch 17/50\n",
      "Train Loss: 0.7538, Acc: 72.78%\n",
      "Val   Loss: 0.7438, Acc: 65.85%\n",
      "------------------------------------------------------------\n",
      "No improvement for 6 epochs.\n"
     ]
    },
    {
     "name": "stderr",
     "output_type": "stream",
     "text": [
      "Epoch [18/50]: 100%|██████████| 7/7 [00:00<00:00, 10.63it/s, accuracy=81.5, loss=0.595]\n"
     ]
    },
    {
     "name": "stdout",
     "output_type": "stream",
     "text": [
      "\n",
      "Epoch 18/50\n",
      "Train Loss: 0.5953, Acc: 81.48%\n",
      "Val   Loss: 0.6443, Acc: 73.17%\n",
      "------------------------------------------------------------\n",
      "No improvement for 7 epochs.\n"
     ]
    },
    {
     "name": "stderr",
     "output_type": "stream",
     "text": [
      "Epoch [19/50]: 100%|██████████| 7/7 [00:00<00:00, 10.08it/s, accuracy=86, loss=0.473]  \n"
     ]
    },
    {
     "name": "stdout",
     "output_type": "stream",
     "text": [
      "\n",
      "Epoch 19/50\n",
      "Train Loss: 0.4732, Acc: 86.05%\n",
      "Val   Loss: 0.6880, Acc: 73.17%\n",
      "------------------------------------------------------------\n",
      "No improvement for 8 epochs.\n"
     ]
    },
    {
     "name": "stderr",
     "output_type": "stream",
     "text": [
      "Epoch [20/50]: 100%|██████████| 7/7 [00:00<00:00, 10.28it/s, accuracy=83.3, loss=0.585]\n"
     ]
    },
    {
     "name": "stdout",
     "output_type": "stream",
     "text": [
      "\n",
      "Epoch 20/50\n",
      "Train Loss: 0.5854, Acc: 83.35%\n",
      "Val   Loss: 0.6427, Acc: 73.17%\n",
      "------------------------------------------------------------\n",
      "No improvement for 9 epochs.\n"
     ]
    },
    {
     "name": "stderr",
     "output_type": "stream",
     "text": [
      "Epoch [21/50]: 100%|██████████| 7/7 [00:00<00:00, 10.32it/s, accuracy=84.1, loss=0.53] \n"
     ]
    },
    {
     "name": "stdout",
     "output_type": "stream",
     "text": [
      "\n",
      "Epoch 21/50\n",
      "Train Loss: 0.5296, Acc: 84.11%\n",
      "Val   Loss: 0.5801, Acc: 75.61%\n",
      "------------------------------------------------------------\n",
      "No improvement for 10 epochs.\n",
      "Early stopping triggered!\n",
      "Finished Training\n"
     ]
    }
   ],
   "source": [
    "from torchvision.models import resnet50, ResNet50_Weights\n",
    "from torch.optim.lr_scheduler import ReduceLROnPlateau\n",
    "import torch.nn as nn\n",
    "import torch\n",
    "import numpy as np\n",
    "from tqdm import tqdm\n",
    "import random\n",
    "\n",
    "# ----------------- Hybrid ResNet50 --------------------\n",
    "def get_resnet50_hybrid_model(num_classes, freeze=True):\n",
    "    model = resnet50(weights=ResNet50_Weights.DEFAULT)\n",
    "    model.fc = nn.Linear(model.fc.in_features, num_classes)\n",
    "\n",
    "    if freeze:\n",
    "        for param in model.parameters():\n",
    "            param.requires_grad = False\n",
    "        for param in model.fc.parameters():\n",
    "            param.requires_grad = True\n",
    "    return model\n",
    "\n",
    "# ----------------- MixUp Functions --------------------\n",
    "def mixup_data(x, y, alpha=1.0):\n",
    "    if alpha > 0:\n",
    "        lam = np.random.beta(alpha, alpha)\n",
    "    else:\n",
    "        lam = 1\n",
    "\n",
    "    batch_size = x.size(0)\n",
    "    index = torch.randperm(batch_size).to(x.device)\n",
    "\n",
    "    mixed_x = lam * x + (1 - lam) * x[index, :]\n",
    "    y_a, y_b = y, y[index]\n",
    "    return mixed_x, y_a, y_b, lam\n",
    "\n",
    "def mixup_criterion(criterion, pred, y_a, y_b, lam):\n",
    "    return lam * criterion(pred, y_a) + (1 - lam) * criterion(pred, y_b)\n",
    "\n",
    "# ----------------- Seed Function --------------------\n",
    "def set_seed(seed):\n",
    "    random.seed(seed)\n",
    "    np.random.seed(seed)\n",
    "    torch.manual_seed(seed)\n",
    "    torch.cuda.manual_seed_all(seed)\n",
    "\n",
    "# ----------------- Training Loop --------------------\n",
    "def train(model, trainloader, valloader, max_epochs=50, patience=10, min_delta=0.01, mixup_alpha=0.4):\n",
    "    criterion = nn.CrossEntropyLoss()\n",
    "    optimizer = torch.optim.AdamW(filter(lambda p: p.requires_grad, model.parameters()), lr=1e-3, weight_decay=1e-4)\n",
    "    scheduler = ReduceLROnPlateau(optimizer, mode='min', factor=0.5, patience=5)\n",
    "\n",
    "    best_val_loss = float('inf')\n",
    "    epochs_no_improve = 0\n",
    "    best_model_wts = model.state_dict()\n",
    "\n",
    "    train_losses, train_accuracies = [], []\n",
    "    val_losses, val_accuracies = [], []\n",
    "\n",
    "    for epoch in range(max_epochs):\n",
    "        model.train()\n",
    "        running_loss, correct, total = 0.0, 0, 0\n",
    "        loop = tqdm(enumerate(trainloader), total=len(trainloader), leave=True)\n",
    "\n",
    "        for i, data in loop:\n",
    "            inputs, labels = data\n",
    "            inputs, labels = inputs.to(device), labels.to(device)\n",
    "            optimizer.zero_grad()\n",
    "\n",
    "            # Apply MixUp\n",
    "            inputs, targets_a, targets_b, lam = mixup_data(inputs, labels, alpha=mixup_alpha)\n",
    "            outputs = model(inputs)\n",
    "            loss = mixup_criterion(criterion, outputs, targets_a, targets_b, lam)\n",
    "\n",
    "            loss.backward()\n",
    "            optimizer.step()\n",
    "\n",
    "            _, predicted = torch.max(outputs.data, 1)\n",
    "            total += labels.size(0)\n",
    "            correct += (lam * (predicted == targets_a).sum().item() + (1 - lam) * (predicted == targets_b).sum().item())\n",
    "            running_loss += loss.item()\n",
    "\n",
    "            loop.set_description(f\"Epoch [{epoch+1}/{max_epochs}]\")\n",
    "            loop.set_postfix(loss=running_loss/(i+1), accuracy=100.*correct/total)\n",
    "\n",
    "        epoch_train_loss = running_loss / len(trainloader)\n",
    "        epoch_train_acc = 100. * correct / total\n",
    "        train_losses.append(epoch_train_loss)\n",
    "        train_accuracies.append(epoch_train_acc)\n",
    "\n",
    "        # ---------- Validation ----------\n",
    "        model.eval()\n",
    "        val_running_loss, val_correct, val_total = 0.0, 0, 0\n",
    "\n",
    "        with torch.no_grad():\n",
    "            for data in valloader:\n",
    "                images, labels = data\n",
    "                images, labels = images.to(device), labels.to(device)\n",
    "                outputs = model(images)\n",
    "                loss = criterion(outputs, labels)\n",
    "\n",
    "                val_running_loss += loss.item()\n",
    "                _, predicted = torch.max(outputs.data, 1)\n",
    "                val_total += labels.size(0)\n",
    "                val_correct += (predicted == labels).sum().item()\n",
    "\n",
    "        epoch_val_loss = val_running_loss / len(valloader)\n",
    "        epoch_val_acc = 100. * val_correct / val_total\n",
    "        val_losses.append(epoch_val_loss)\n",
    "        val_accuracies.append(epoch_val_acc)\n",
    "\n",
    "        scheduler.step(epoch_val_loss)\n",
    "\n",
    "        print(f\"\\nEpoch {epoch+1}/{max_epochs}\")\n",
    "        print(f\"Train Loss: {epoch_train_loss:.4f}, Acc: {epoch_train_acc:.2f}%\")\n",
    "        print(f\"Val   Loss: {epoch_val_loss:.4f}, Acc: {epoch_val_acc:.2f}%\")\n",
    "        print(\"-\" * 60)\n",
    "\n",
    "        # Save best model\n",
    "        if epoch_val_loss + min_delta < best_val_loss:\n",
    "            best_val_loss = epoch_val_loss\n",
    "            epochs_no_improve = 0\n",
    "            best_model_wts = model.state_dict()\n",
    "        else:\n",
    "            epochs_no_improve += 1\n",
    "            print(f\"No improvement for {epochs_no_improve} epochs.\")\n",
    "\n",
    "        if epochs_no_improve >= patience:\n",
    "            print(\"Early stopping triggered!\")\n",
    "            break\n",
    "\n",
    "    print(\"Finished Training\")\n",
    "    model.load_state_dict(best_model_wts)\n",
    "    return model, train_losses, train_accuracies, val_losses, val_accuracies\n",
    "\n",
    "# ----------------- Example Usage --------------------\n",
    "set_seed(1220)\n",
    "\n",
    "num_classes = 3  # change to your dataset\n",
    "model = get_resnet50_hybrid_model(num_classes, freeze=True).to(device)\n",
    "\n",
    "# Phase 1: Train only fc layer\n",
    "model, _, _, _, _ = train(model, trainloader, valloader, max_epochs=5, patience=3)\n",
    "\n",
    "# Phase 2: Unfreeze all and fine-tune\n",
    "for param in model.parameters():\n",
    "    param.requires_grad = True\n",
    "\n",
    "# Use lower LR when fine-tuning the full model\n",
    "for g in torch.optim.AdamW(model.parameters()).param_groups:\n",
    "    g['lr'] = 1e-5\n",
    "\n",
    "model, train_losses, train_accuracies, val_losses, val_accuracies = train(\n",
    "    model, trainloader, valloader, max_epochs=50, patience=10, mixup_alpha=0.4\n",
    ")\n"
   ]
  },
  {
   "cell_type": "code",
   "execution_count": 186,
   "id": "c4907284",
   "metadata": {},
   "outputs": [],
   "source": [
    "import torchvision.models as models\n",
    "\n",
    "model = torchvision.models.densenet201()\n",
    "\n",
    "\n",
    "for param in model.parameters():\n",
    "    param.requires_grad = False  \n",
    "for param in model.features.denseblock4.parameters():  # Last feature block\n",
    "    param.requires_grad = True\n",
    "for param in model.features.transition3.parameters():  # Optional: transition before block4\n",
    "    param.requires_grad = True\n",
    "for param in model.features.norm5.parameters():       # Final batch norm\n",
    "    param.requires_grad = True\n",
    "\n",
    "\n",
    "num_features = model.classifier.in_features\n",
    "model.classifier = nn.Sequential(\n",
    "    nn.Linear(num_features, 1024),\n",
    "    nn.ReLU(),\n",
    "    nn.Dropout(0.7),  \n",
    "    nn.Linear(1024, 3)  \n",
    ")\n",
    "\n",
    "# Move to device\n",
    "model = model.to(device)"
   ]
  },
  {
   "cell_type": "code",
   "execution_count": 133,
   "id": "afd825f3",
   "metadata": {},
   "outputs": [],
   "source": [
    "from torchvision.models import resnet50, ResNet50_Weights\n",
    "\n",
    "def get_resnet50_hybrid_model(num_classes, freeze=True):\n",
    "    model = resnet50(weights=ResNet50_Weights.DEFAULT)\n",
    "    \n",
    "    # Replace final layer\n",
    "    model.fc = nn.Linear(model.fc.in_features, num_classes)\n",
    "    \n",
    "    # Freeze everything if freeze=True\n",
    "    if freeze:\n",
    "        for param in model.parameters():\n",
    "            param.requires_grad = False\n",
    "        # Unfreeze only fc layer\n",
    "        for param in model.fc.parameters():\n",
    "            param.requires_grad = True\n",
    "            \n",
    "    return model\n",
    "\n",
    "num_classes = 3  # change to your target class count\n",
    "model = get_resnet50_hybrid_model(num_classes)\n",
    "model = model.to(device)\n"
   ]
  },
  {
   "cell_type": "code",
   "execution_count": 24,
   "id": "40daef98",
   "metadata": {},
   "outputs": [],
   "source": [
    "class EfficientNetB4Classifier(nn.Module):\n",
    "    def __init__(self, num_classes=3):\n",
    "        super(EfficientNetB4Classifier, self).__init__()\n",
    "        self.model = timm.create_model(\"efficientnet_b4\", pretrained=True)\n",
    "        self.model.classifier = nn.Sequential(\n",
    "            nn.Linear(self.model.classifier.in_features, 512),\n",
    "            nn.ReLU(),\n",
    "            nn.Dropout(0.5),\n",
    "            nn.Linear(512, num_classes)\n",
    "        )\n",
    "\n",
    "    def forward(self, x):\n",
    "        return self.model(x)\n",
    "\n",
    "model = EfficientNetB4Classifier(num_classes=3).to(device)\n"
   ]
  },
  {
   "cell_type": "code",
   "execution_count": 128,
   "id": "92c8cddf",
   "metadata": {},
   "outputs": [],
   "source": [
    "set_seed(1220)  # Set seed for reproducibility\n",
    "def train(model,trainloader,valloader,max_epochs=50,patience=10,min_delta=0.01):\n",
    "    criterion = nn.CrossEntropyLoss()\n",
    "    optimizer = torch.optim.AdamW(filter(lambda p: p.requires_grad, model.parameters()), lr=1e-3, weight_decay=1e-4)\n",
    "\n",
    "    \n",
    "    # Reduce LR on plateau of validation loss\n",
    "    scheduler = ReduceLROnPlateau(optimizer, mode='min', factor=0.5, patience=5)\n",
    "\n",
    "    best_val_loss = float('inf')\n",
    "    epochs_no_improve = 0\n",
    "\n",
    "    train_losses, train_accuracies = [], []\n",
    "    val_losses, val_accuracies = [], []\n",
    "\n",
    "    for epoch in range(max_epochs):\n",
    "        model.train()\n",
    "        running_loss, correct, total = 0.0, 0, 0\n",
    "        loop = tqdm(enumerate(trainloader), total=len(trainloader), leave=True)\n",
    "\n",
    "        for i, data in loop:\n",
    "            inputs, labels = data\n",
    "            inputs, labels = inputs.to(device), labels.to(device)\n",
    "            optimizer.zero_grad()\n",
    "\n",
    "            outputs = model(inputs)\n",
    "            loss = criterion(outputs, labels)\n",
    "            loss.backward()\n",
    "            optimizer.step()\n",
    "\n",
    "            _, predicted = torch.max(outputs.data, 1)\n",
    "            total += labels.size(0)\n",
    "            correct += (predicted == labels).sum().item()\n",
    "            running_loss += loss.item()\n",
    "\n",
    "            loop.set_description(f\"Epoch [{epoch+1}/{max_epochs}]\")\n",
    "            loop.set_postfix(loss=running_loss/(i+1), accuracy=100.*correct/total)\n",
    "\n",
    "        epoch_train_loss = running_loss / len(trainloader)\n",
    "        epoch_train_acc = 100. * correct / total\n",
    "        train_losses.append(epoch_train_loss)\n",
    "        train_accuracies.append(epoch_train_acc)\n",
    "\n",
    "        # Validation\n",
    "        model.eval()\n",
    "        val_running_loss, val_correct, val_total = 0.0, 0, 0\n",
    "\n",
    "        with torch.no_grad():\n",
    "            for data in valloader:\n",
    "                images, labels = data\n",
    "                images, labels = images.to(device), labels.to(device)\n",
    "\n",
    "                outputs = model(images)\n",
    "                loss = criterion(outputs, labels)\n",
    "                val_running_loss += loss.item()\n",
    "                _, predicted = torch.max(outputs.data, 1)\n",
    "                val_total += labels.size(0)\n",
    "                val_correct += (predicted == labels).sum().item()\n",
    "\n",
    "        epoch_val_loss = val_running_loss / len(valloader)\n",
    "        epoch_val_acc = 100. * val_correct / val_total\n",
    "        val_losses.append(epoch_val_loss)\n",
    "        val_accuracies.append(epoch_val_acc)\n",
    "\n",
    "        scheduler.step(epoch_val_loss)  # Updating Learning Rate scheduler\n",
    "\n",
    "        print(f\"\\nEpoch {epoch+1}/{max_epochs}\")\n",
    "        print(f\"Train Loss: {epoch_train_loss:.4f}, Acc: {epoch_train_acc:.2f}%\")\n",
    "        print(f\"Val   Loss: {epoch_val_loss:.4f}, Acc: {epoch_val_acc:.2f}%\")\n",
    "        print(\"-\" * 60)\n",
    "\n",
    "        # Implementing early stopping in training so that training can be stop when overfitting occurs\n",
    "        if epoch_val_loss + min_delta < best_val_loss:\n",
    "            best_val_loss = epoch_val_loss\n",
    "            epochs_no_improve = 0\n",
    "            best_model_wts = model.state_dict()  # Save best weights\n",
    "        else:\n",
    "            epochs_no_improve += 1\n",
    "            print(f\"No improvement for {epochs_no_improve} epochs.\")\n",
    "\n",
    "        if epochs_no_improve >= patience:\n",
    "            print(\"Early stopping triggered!\")\n",
    "            break\n",
    "\n",
    "    print(\"Finished Training\")\n",
    "    model.load_state_dict(best_model_wts)  # Load best weights\n",
    "    return model, train_losses, train_accuracies, val_losses, val_accuracies\n"
   ]
  },
  {
   "cell_type": "code",
   "execution_count": 157,
   "id": "8298264b",
   "metadata": {},
   "outputs": [],
   "source": [
    "def Save_Model():\n",
    "    torch.save(model.state_dict(), 'model.pth')\n",
    "    print(\"Model saved successfully!\")\n",
    "    return\n",
    "\n",
    "def Load_Model():\n",
    "    model.load_state_dict(torch.load('model.pth'))\n",
    "    model.eval()\n",
    "    print(\"Model loaded successfully!\")\n",
    "    return"
   ]
  },
  {
   "cell_type": "code",
   "execution_count": 170,
   "id": "52077207",
   "metadata": {},
   "outputs": [
    {
     "name": "stdout",
     "output_type": "stream",
     "text": [
      "Starting training...\n"
     ]
    },
    {
     "name": "stderr",
     "output_type": "stream",
     "text": [
      "Epoch [1/50]: 100%|██████████| 7/7 [00:00<00:00, 10.44it/s, accuracy=73.2, loss=0.839]\n"
     ]
    },
    {
     "name": "stdout",
     "output_type": "stream",
     "text": [
      "\n",
      "Epoch 1/50\n",
      "Train Loss: 0.8390, Acc: 73.24%\n",
      "Val   Loss: 0.9244, Acc: 78.05%\n",
      "------------------------------------------------------------\n"
     ]
    },
    {
     "name": "stderr",
     "output_type": "stream",
     "text": [
      "Epoch [2/50]: 100%|██████████| 7/7 [00:00<00:00, 10.34it/s, accuracy=70.7, loss=0.894]\n"
     ]
    },
    {
     "name": "stdout",
     "output_type": "stream",
     "text": [
      "\n",
      "Epoch 2/50\n",
      "Train Loss: 0.8939, Acc: 70.74%\n",
      "Val   Loss: 1.0949, Acc: 58.54%\n",
      "------------------------------------------------------------\n",
      "No improvement for 1 epochs.\n"
     ]
    },
    {
     "name": "stderr",
     "output_type": "stream",
     "text": [
      "Epoch [3/50]: 100%|██████████| 7/7 [00:00<00:00, 10.34it/s, accuracy=76.9, loss=0.833]\n"
     ]
    },
    {
     "name": "stdout",
     "output_type": "stream",
     "text": [
      "\n",
      "Epoch 3/50\n",
      "Train Loss: 0.8332, Acc: 76.90%\n",
      "Val   Loss: 0.8463, Acc: 65.85%\n",
      "------------------------------------------------------------\n"
     ]
    },
    {
     "name": "stderr",
     "output_type": "stream",
     "text": [
      "Epoch [4/50]:  14%|█▍        | 1/7 [00:00<00:01,  3.36it/s, accuracy=76.3, loss=0.726]\n"
     ]
    },
    {
     "ename": "KeyboardInterrupt",
     "evalue": "",
     "output_type": "error",
     "traceback": [
      "\u001b[31m---------------------------------------------------------------------------\u001b[39m",
      "\u001b[31mKeyboardInterrupt\u001b[39m                         Traceback (most recent call last)",
      "\u001b[36mCell\u001b[39m\u001b[36m \u001b[39m\u001b[32mIn[170]\u001b[39m\u001b[32m, line 2\u001b[39m\n\u001b[32m      1\u001b[39m \u001b[38;5;28mprint\u001b[39m(\u001b[33m\"\u001b[39m\u001b[33mStarting training...\u001b[39m\u001b[33m\"\u001b[39m)\n\u001b[32m----> \u001b[39m\u001b[32m2\u001b[39m trained_model, train_losses, train_accuracies, val_losses, val_accuracies = \u001b[43mtrain\u001b[49m\u001b[43m(\u001b[49m\n\u001b[32m      3\u001b[39m \u001b[43m    \u001b[49m\u001b[43mmodel\u001b[49m\u001b[43m,\u001b[49m\u001b[43m \u001b[49m\u001b[43mtrainloader\u001b[49m\u001b[43m,\u001b[49m\u001b[43m \u001b[49m\u001b[43mvalloader\u001b[49m\n\u001b[32m      4\u001b[39m \u001b[43m)\u001b[49m\n",
      "\u001b[36mCell\u001b[39m\u001b[36m \u001b[39m\u001b[32mIn[169]\u001b[39m\u001b[32m, line 78\u001b[39m, in \u001b[36mtrain\u001b[39m\u001b[34m(model, trainloader, valloader, max_epochs, patience, min_delta, mixup_alpha)\u001b[39m\n\u001b[32m     76\u001b[39m _, predicted = torch.max(outputs.data, \u001b[32m1\u001b[39m)\n\u001b[32m     77\u001b[39m total += labels.size(\u001b[32m0\u001b[39m)\n\u001b[32m---> \u001b[39m\u001b[32m78\u001b[39m correct += (lam * \u001b[43m(\u001b[49m\u001b[43mpredicted\u001b[49m\u001b[43m \u001b[49m\u001b[43m==\u001b[49m\u001b[43m \u001b[49m\u001b[43mtargets_a\u001b[49m\u001b[43m)\u001b[49m\u001b[43m.\u001b[49m\u001b[43msum\u001b[49m\u001b[43m(\u001b[49m\u001b[43m)\u001b[49m\u001b[43m.\u001b[49m\u001b[43mitem\u001b[49m\u001b[43m(\u001b[49m\u001b[43m)\u001b[49m + (\u001b[32m1\u001b[39m - lam) * (predicted == targets_b).sum().item())\n\u001b[32m     79\u001b[39m running_loss += loss.item()\n\u001b[32m     81\u001b[39m loop.set_description(\u001b[33mf\u001b[39m\u001b[33m\"\u001b[39m\u001b[33mEpoch [\u001b[39m\u001b[38;5;132;01m{\u001b[39;00mepoch+\u001b[32m1\u001b[39m\u001b[38;5;132;01m}\u001b[39;00m\u001b[33m/\u001b[39m\u001b[38;5;132;01m{\u001b[39;00mmax_epochs\u001b[38;5;132;01m}\u001b[39;00m\u001b[33m]\u001b[39m\u001b[33m\"\u001b[39m)\n",
      "\u001b[31mKeyboardInterrupt\u001b[39m: "
     ]
    }
   ],
   "source": [
    "print(\"Starting training...\")\n",
    "trained_model, train_losses, train_accuracies, val_losses, val_accuracies = train(\n",
    "    model, trainloader, valloader\n",
    ")"
   ]
  },
  {
   "cell_type": "code",
   "execution_count": 171,
   "id": "3b5d435c",
   "metadata": {},
   "outputs": [],
   "source": [
    "def evaluate(model, valloader):\n",
    "\n",
    "    model.eval()\n",
    "    correct = 0\n",
    "    total = 0\n",
    "    \n",
    "    # Initialize lists for per-class accuracy\n",
    "    num_classes = len(classes)\n",
    "    class_correct = list(0. for i in range(num_classes))\n",
    "    class_total = list(0. for i in range(num_classes))\n",
    "    \n",
    "    # Initialize confusion matrix\n",
    "    confusion_matrix = torch.zeros(num_classes, num_classes)\n",
    "    \n",
    "    with torch.no_grad():\n",
    "        for data in tqdm(valloader, desc=\"Evaluating\"):\n",
    "            images, labels = data\n",
    "            images, labels = images.to(device), labels.to(device)\n",
    "            outputs = model(images)\n",
    "            _, predicted = torch.max(outputs.data, 1)\n",
    "            total += labels.size(0)\n",
    "            correct += (predicted == labels).sum().item()\n",
    "            \n",
    "            # Calculate per-class accuracy\n",
    "            c = (predicted == labels).squeeze()\n",
    "            for i in range(len(labels)):\n",
    "                label = labels[i]\n",
    "                class_correct[label] += c[i].item()\n",
    "                class_total[label] += 1\n",
    "                \n",
    "                # Update confusion matrix\n",
    "                confusion_matrix[label, predicted[i]] += 1\n",
    "\n",
    "    overall_accuracy = 100 * correct / total\n",
    "    print(f'Overall Accuracy: {overall_accuracy:.2f}%')\n",
    "\n",
    "    \n",
    "    return class_correct, class_total, confusion_matrix"
   ]
  },
  {
   "cell_type": "code",
   "execution_count": 172,
   "id": "281524ee",
   "metadata": {},
   "outputs": [
    {
     "name": "stdout",
     "output_type": "stream",
     "text": [
      "Starting evaluating...\n"
     ]
    },
    {
     "name": "stderr",
     "output_type": "stream",
     "text": [
      "Evaluating: 100%|██████████| 1/1 [00:00<00:00,  5.97it/s]"
     ]
    },
    {
     "name": "stdout",
     "output_type": "stream",
     "text": [
      "Overall Accuracy: 82.93%\n"
     ]
    },
    {
     "name": "stderr",
     "output_type": "stream",
     "text": [
      "\n"
     ]
    }
   ],
   "source": [
    "print(\"Starting evaluating...\")\n",
    "class_correct, class_total, confusion_matrix = evaluate(trained_model, valloader)"
   ]
  },
  {
   "cell_type": "code",
   "execution_count": 154,
   "id": "3bc71001",
   "metadata": {},
   "outputs": [],
   "source": [
    "def plot_training_metrics(train_losses, train_accuracies, val_losses, val_accuracies):\n",
    "\n",
    "    epochs = range(1, len(train_losses) + 1)\n",
    "    \n",
    "    fig, (ax1, ax2) = plt.subplots(1, 2, figsize=(15, 5))\n",
    "\n",
    "    ax1.plot(epochs, train_losses, 'b-', label='Training Loss')\n",
    "    ax1.plot(epochs, val_losses, 'r-', label='Validation Loss')\n",
    "    ax1.set_title('Training and Validation Loss')\n",
    "    ax1.set_xlabel('Epochs')\n",
    "    ax1.set_ylabel('Loss')\n",
    "    ax1.legend()\n",
    "    ax1.grid(True)\n",
    "    \n",
    "    ax2.plot(epochs, train_accuracies, 'b-', label='Training Accuracy')\n",
    "    ax2.plot(epochs, val_accuracies, 'r-', label='Validation Accuracy')\n",
    "    ax2.set_title('Training and Validation Accuracy')\n",
    "    ax2.set_xlabel('Epochs')\n",
    "    ax2.set_ylabel('Accuracy (%)')\n",
    "    ax2.legend()\n",
    "    ax2.grid(True)\n",
    "    \n",
    "    plt.tight_layout()\n",
    "    plt.show()\n",
    "    \n",
    "    fig.savefig('training_metrics.png')\n",
    "    print(\"Training metrics plot saved as 'training_metrics.png'\")\n",
    "    return"
   ]
  },
  {
   "cell_type": "code",
   "execution_count": 155,
   "id": "ff7ef590",
   "metadata": {},
   "outputs": [],
   "source": [
    "def plot_evaluation_metrics(class_correct, class_total, confusion_matrix):\n",
    "\n",
    "    num_classes = len(classes)\n",
    "    \n",
    "    # Calculate accuracies and identify valid classes\n",
    "    accuracies = []\n",
    "    valid_classes = []\n",
    "    \n",
    "    print(\"\\nPer-class Accuracy:\")\n",
    "    print(\"-\" * 50)\n",
    "    for i in range(num_classes):\n",
    "        if class_total[i] > 0:  # Avoid division by zero\n",
    "            accuracy = 100 * class_correct[i] / class_total[i]\n",
    "            print(f'{classes[i]}: {accuracy:.2f}% ({int(class_correct[i])}/{int(class_total[i])})')\n",
    "            accuracies.append(accuracy)\n",
    "            valid_classes.append(classes[i])\n",
    "        else:\n",
    "            print(f'{classes[i]}: No samples')\n",
    "    \n",
    "    # Plot per-class accuracy as a bar chart\n",
    "    plt.figure(figsize=(12, 6))\n",
    "    plt.bar(valid_classes, accuracies, color='skyblue')\n",
    "    plt.xlabel('Classes')\n",
    "    plt.ylabel('Accuracy (%)')\n",
    "    plt.title('Per-class Accuracy')\n",
    "    plt.xticks(rotation=45, ha='right')\n",
    "    plt.tight_layout()\n",
    "    plt.savefig('per_class_accuracy.png')\n",
    "    plt.show()\n",
    "    \n",
    "    # Normalize confusion matrix by row (true labels) and plot\n",
    "    normalized_confusion_matrix = confusion_matrix.clone()  # Create a copy to avoid modifying the original\n",
    "    for i in range(num_classes):\n",
    "        if normalized_confusion_matrix[i].sum() > 0:\n",
    "            normalized_confusion_matrix[i] = normalized_confusion_matrix[i] / normalized_confusion_matrix[i].sum()\n",
    "    \n",
    "    # Plot confusion matrix\n",
    "    plt.figure(figsize=(10, 8))\n",
    "    plt.imshow(normalized_confusion_matrix.cpu().numpy(), interpolation='nearest', cmap=plt.cm.Blues)\n",
    "    plt.title('Normalized Confusion Matrix')\n",
    "    plt.colorbar()\n",
    "    tick_marks = np.arange(num_classes)\n",
    "    plt.xticks(tick_marks, classes, rotation=45, ha='right')\n",
    "    plt.yticks(tick_marks, classes)\n",
    "   \n",
    "    thresh = normalized_confusion_matrix.cpu().numpy().max() / 2.0\n",
    "    for i in range(num_classes):\n",
    "        for j in range(num_classes):\n",
    "            plt.text(j, i, f'{normalized_confusion_matrix[i, j]:.2f}',\n",
    "                     horizontalalignment=\"center\",\n",
    "                     color=\"white\" if normalized_confusion_matrix[i, j] > thresh else \"black\")\n",
    "    \n",
    "    plt.tight_layout()\n",
    "    plt.ylabel('True label')\n",
    "    plt.xlabel('Predicted label')\n",
    "    plt.savefig('confusion_matrix.png')\n",
    "    plt.show()\n",
    "    \n",
    "    return"
   ]
  },
  {
   "cell_type": "code",
   "execution_count": null,
   "id": "30ada428",
   "metadata": {},
   "outputs": [
    {
     "data": {
      "image/png": "[encoded data removed]",
      "text/plain": [
       "<Figure size 1500x500 with 2 Axes>"
      ]
     },
     "metadata": {},
     "output_type": "display_data"
    },
    {
     "name": "stdout",
     "output_type": "stream",
     "text": [
      "Training metrics plot saved as 'training_metrics.png'\n"
     ]
    }
   ],
   "source": [
    "plot_training_metrics(train_losses, train_accuracies, val_losses, val_accuracies)"
   ]
  },
  {
   "cell_type": "code",
   "execution_count": 156,
   "id": "1fb2e6d5",
   "metadata": {},
   "outputs": [
    {
     "name": "stdout",
     "output_type": "stream",
     "text": [
      "\n",
      "Per-class Accuracy:\n",
      "--------------------------------------------------\n",
      "A: 94.12% (16/17)\n",
      "B: 81.25% (13/16)\n",
      "C: 87.50% (7/8)\n"
     ]
    },
    {
     "data": {
      "image/png": "[encoded data removed]",
      "text/plain": [
       "<Figure size 1200x600 with 1 Axes>"
      ]
     },
     "metadata": {},
     "output_type": "display_data"
    },
    {
     "data": {
      "image/png": "[encoded data removed]",
      "text/plain": [
       "<Figure size 1000x800 with 2 Axes>"
      ]
     },
     "metadata": {},
     "output_type": "display_data"
    }
   ],
   "source": [
    "plot_evaluation_metrics(class_correct, class_total, confusion_matrix)"
   ]
  },
  {
   "cell_type": "code",
   "execution_count": 68,
   "id": "9ff88d12",
   "metadata": {},
   "outputs": [
    {
     "name": "stdout",
     "output_type": "stream",
     "text": [
      "Model saved successfully!\n"
     ]
    }
   ],
   "source": [
    "Save_Model()"
   ]
  },
  {
   "cell_type": "code",
   "execution_count": null,
   "id": "780d94c2",
   "metadata": {},
   "outputs": [
    {
     "name": "stdout",
     "output_type": "stream",
     "text": [
      "Loaded CSV with 100 entries\n"
     ]
    },
    {
     "name": "stderr",
     "output_type": "stream",
     "text": [
      "100%|██████████| 100/100 [00:28<00:00,  3.47it/s]"
     ]
    },
    {
     "name": "stdout",
     "output_type": "stream",
     "text": [
      "Updated CSV saved to C:\\Users\\User\\Downloads\\damage-classification-beam\\dataset_beam\\submission_example.csv\n"
     ]
    },
    {
     "name": "stderr",
     "output_type": "stream",
     "text": [
      "\n"
     ]
    }
   ],
   "source": [
    "import os\n",
    "# Change this part to your path\n",
    "test_folder_path=r\"C:\\Users\\User\\Downloads\\damage-classification-beam\\dataset_beam\\test\"       \n",
    "csv_file_path= r\"C:\\Users\\User\\Downloads\\damage-classification-beam\\dataset_beam\\submission_example.csv\"\n",
    "model_path=\"model.pth\"\n",
    "file_extension=\".jpg\"           \n",
    "\n",
    "\n",
    "# Load CSV file\n",
    "df = pd.read_csv(csv_file_path)\n",
    "print(f\"Loaded CSV with {len(df)} entries\")\n",
    "\n",
    "# Get column names\n",
    "columns = df.columns.tolist()\n",
    "first_col = columns[0]  # Image name column\n",
    "second_col = columns[1]  # Empty column for predictions\n",
    "\n",
    "# Load model\n",
    "model.load_state_dict(torch.load(model_path, map_location=device))\n",
    "model.to(device)\n",
    "model.eval()\n",
    "\n",
    "# Set up transformation (same as we set up earlier in the dataloaidng part, put I put here again for clarity)\n",
    "transform = transforms.Compose([\n",
    "    transforms.Resize([224, 224]),\n",
    "    transforms.ToTensor(),\n",
    "    transforms.Normalize((0.5, 0.5, 0.5), (0.5, 0.5, 0.5))\n",
    "])\n",
    "\n",
    "label_map = {0: \"A\", 1: \"B\", 2: \"C\"}\n",
    "\n",
    "for idx, row in tqdm(df.iterrows(), total=len(df)):\n",
    "    try:\n",
    "        img_name = str(row[first_col]).strip()\n",
    "        \n",
    "        img_path = os.path.join(test_folder_path, img_name + file_extension)\n",
    "               \n",
    "        # Process the image\n",
    "        img = Image.open(img_path).convert('RGB')\n",
    "        img_tensor = transform(img).unsqueeze(0).to(device)\n",
    "        \n",
    "        # Predict\n",
    "        with torch.no_grad():\n",
    "            output = model(img_tensor)\n",
    "            _, predicted = torch.max(output.data, 1)\n",
    "            predicted_idx = predicted.item()\n",
    "        \n",
    "        # Update CSV\n",
    "        df.at[idx, second_col] = label_map[predicted_idx]\n",
    "        \n",
    "    except Exception as e:\n",
    "        print(f\"Error with image {img_name}: {e}\")\n",
    "\n",
    "# Save updated CSV\n",
    "df.to_csv(csv_file_path, index=False)\n",
    "print(f\"Updated CSV saved to {csv_file_path}\")\n"
   ]
  },
  {
   "cell_type": "code",
   "execution_count": null,
   "id": "de897e80",
   "metadata": {},
   "outputs": [
    {
     "ename": "SyntaxError",
     "evalue": "invalid syntax (336199728.py, line 1)",
     "output_type": "error",
     "traceback": [
      "  \u001b[36mCell\u001b[39m\u001b[36m \u001b[39m\u001b[32mIn[20]\u001b[39m\u001b[32m, line 1\u001b[39m\n\u001b[31m    \u001b[39m\u001b[31mpython detect/train.py --data beam_3class.yaml --img 640 --batch 16 --epochs 100 --weights yolov9.pt --device 0\u001b[39m\n           ^\n\u001b[31mSyntaxError\u001b[39m\u001b[31m:\u001b[39m invalid syntax\n"
     ]
    }
   ],
   "source": [
    "python train.py --data beam_3class.yaml --img 640 --batch 16 --epochs 100 --weights {HOME}/weights/yolov9-c.pt --cfg models/detect/yolov9.yaml --hyp data/hyps/hyp.scratch-high.yaml --device 0"
   ]
  },
  {
   "cell_type": "code",
   "execution_count": null,
   "id": "759c6715",
   "metadata": {},
   "outputs": [
    {
     "name": "stdout",
     "output_type": "stream",
     "text": [
      "Starting evaluating...\n"
     ]
    },
    {
     "name": "stderr",
     "output_type": "stream",
     "text": [
      "Evaluating: 100%|██████████| 2/2 [00:00<00:00, 14.75it/s]"
     ]
    },
    {
     "name": "stdout",
     "output_type": "stream",
     "text": [
      "Overall Accuracy: 78.05%\n"
     ]
    },
    {
     "name": "stderr",
     "output_type": "stream",
     "text": [
      "\n"
     ]
    }
   ],
   "source": [
    "print(\"Starting evaluating...\")\n",
    "class_correct, class_total, confusion_matrix = evaluate(trained_model, valloader)"
   ]
  },
  {
   "cell_type": "code",
   "execution_count": null,
   "id": "366e233a",
   "metadata": {},
   "outputs": [],
   "source": [
    "yaml_content = \"\"\"\n",
    "train: /home/nobel0601/datasets/damage_detection/3class/for_training/datasets_3class_beam_shuffled/train/images\n",
    "val: /home/nobel0601/datasets/damage_detection/3class/for_training/datasets_3class_beam_shuffled/val/images\n",
    "test: /home/nobel0601/datasets/damage_detection/3class/for_training/datasets_3class_beam_shuffled/test/images\n",
    "\n",
    "nc: 3\n",
    "names: ['rebar', 'crack', 'spalling']\n",
    "\"\"\"\n",
    "\n",
    "with open(\"beam_3class.yaml\", \"w\") as f:\n",
    "    f.write(yaml_content)\n",
    "\n",
    "#Train YOLOv9\n",
    "cd /home/nobel0601/yolov9\n",
    "python train_dual.py --data beam_3class.yaml --img 640 --batch 16 --epochs 100 --weights weights/yolov9-c.pt --cfg models/detect/yolov9-c.yaml --hyp data/hyps/hyp.scratch-high.yaml --device 0\n",
    "\n",
    "#Inference YOLOv9\n",
    "python /home/nobel0601/yolov9/detect_dual.py --weights /home/nobel0601/yolov9/runs/train/exp15/weights/best.pt --source /home/nobel0601/datasets/test_data/beam --img 640 --conf 0.25 --device 0 --save-txt --save-conf --project runs/detect --name predict --exist-ok\n"
   ]
  },
  {
   "cell_type": "code",
   "execution_count": 3,
   "id": "1c8b9b6b",
   "metadata": {},
   "outputs": [
    {
     "data": {
      "image/png": "[encoded data removed]",
      "text/plain": [
       "<Figure size 1000x300 with 1 Axes>"
      ]
     },
     "metadata": {},
     "output_type": "display_data"
    },
    {
     "data": {
      "text/plain": [
       "<Figure size 640x480 with 0 Axes>"
      ]
     },
     "metadata": {},
     "output_type": "display_data"
    }
   ],
   "source": [
    "import matplotlib.pyplot as plt\n",
    "\n",
    "# Labels and values\n",
    "variables = ['Gasoline (¥/litre)', 'Electricity (¥/kWh)', 'Government Subsidy (¥)', 'Tax Incentives (¥)']\n",
    "low_values = [0.94, 0.97, 0.8, 1.0]\n",
    "normal_values = [0.98, 0.98, 0.98, 0.98]\n",
    "high_values = [1.02, 1.00, 1.03, 1.22]\n",
    "\n",
    "# Setup\n",
    "fig, ax = plt.subplots(figsize=(10, 3))\n",
    "y = range(len(variables))\n",
    "\n",
    "# Draw lines from low to high\n",
    "for i in y:\n",
    "    x_values = [low_values[i], normal_values[i], high_values[i]]\n",
    "    x_values.sort()  # Ensure line goes left to right\n",
    "    ax.plot(x_values, [i]*3, marker='o', color='steelblue', linewidth=4)\n",
    "\n",
    "# Reference line\n",
    "ax.axvline(0.98, color='red', linestyle='--', linewidth=2)\n",
    "ax.text(0.98, -0.7, 'TCO with Current Data = 0.98', color='red')\n",
    "\n",
    "# Labels and styling\n",
    "ax.set_yticks(y)\n",
    "ax.set_yticklabels(variables)\n",
    "ax.invert_yaxis()\n",
    "ax.set_xlim(0.75, 1.25)\n",
    "ax.set_xlabel('TCO (BEV / ICEV)')\n",
    "ax.set_title('TCO Sensitivity Range for 10km Daily Distance')\n",
    "\n",
    "plt.tight_layout()\n",
    "plt.show()\n",
    "plt.savefig('tco_sensitivity_10km.png')\n"
   ]
  },
  {
   "cell_type": "code",
   "execution_count": 4,
   "id": "00aebde8",
   "metadata": {},
   "outputs": [
    {
     "data": {
      "image/png": "[encoded data removed]",
      "text/plain": [
       "<Figure size 1000x300 with 1 Axes>"
      ]
     },
     "metadata": {},
     "output_type": "display_data"
    },
    {
     "data": {
      "text/plain": [
       "<Figure size 640x480 with 0 Axes>"
      ]
     },
     "metadata": {},
     "output_type": "display_data"
    }
   ],
   "source": [
    "import matplotlib.pyplot as plt\n",
    "\n",
    "# Labels and values\n",
    "variables = ['Gasoline (¥/litre)', 'Electricity (¥/kWh)', 'Government Subsidy (¥)', 'Tax Incentives (¥)']\n",
    "low_values = [1.00, 1.01, 0.86, 0.94]\n",
    "normal_values = [1.02, 1.02, 1.02, 1.02]\n",
    "high_values = [1.05, 1.04, 1.10, 1.13]\n",
    "\n",
    "# Setup\n",
    "fig, ax = plt.subplots(figsize=(10, 3))\n",
    "y = range(len(variables))\n",
    "\n",
    "# Draw lines from low to high\n",
    "for i in y:\n",
    "    x_values = [low_values[i], normal_values[i], high_values[i]]\n",
    "    x_values.sort()  # Ensure line goes left to right\n",
    "    ax.plot(x_values, [i]*3, marker='o', color='steelblue', linewidth=4)\n",
    "\n",
    "# Reference line\n",
    "ax.axvline(1.02, color='red', linestyle='--', linewidth=2)\n",
    "ax.text(1.02, -0.7, 'TCO with Current Data = 1.02', color='red')\n",
    "\n",
    "# Labels and styling\n",
    "ax.set_yticks(y)\n",
    "ax.set_yticklabels(variables)\n",
    "ax.invert_yaxis()\n",
    "ax.set_xlim(0.85, 1.15)\n",
    "ax.set_xlabel('TCO (BEV / ICEV)')\n",
    "ax.set_title('TCO Sensitivity Range for 20km Daily Distance')\n",
    "\n",
    "plt.tight_layout()\n",
    "plt.show()\n",
    "plt.savefig('tco_sensitivity_20km.png')\n"
   ]
  },
  {
   "cell_type": "code",
   "execution_count": 3,
   "id": "b5c0a642",
   "metadata": {},
   "outputs": [],
   "source": [
    "import matplotlib.pyplot as plt\n",
    "\n",
    "# Labels and values\n",
    "variables = ['Gasoline (¥/litre)', 'Electricity (¥/kWh)', 'Government Subsidy (¥)', 'Tax Incentives (¥)']\n",
    "low_values = [1.06, 1.07, 0.93, 0.88]\n",
    "normal_values = [1.07, 1.07, 1.07, 1.07]\n",
    "high_values = [1.09, 1.08, 1.18, 1.05]\n",
    "\n",
    "# Set desired figure size in inches (width, height)\n",
    "fig, ax = plt.subplots(figsize=(5.87, 4.46))  # ← updated size\n",
    "\n",
    "# Plot lines\n",
    "y = range(len(variables))\n",
    "for i in y:\n",
    "    x_values = [low_values[i], normal_values[i], high_values[i]]\n",
    "    x_values.sort()\n",
    "    ax.plot(x_values, [i]*3, marker='o', color='steelblue', linewidth=4)\n",
    "\n",
    "# Reference line\n",
    "ax.axvline(1.07, color='red', linestyle='--', linewidth=2)\n",
    "ax.text(1.07, -0.6, 'TCO with Current Data = 1.07', color='red', ha='left')\n",
    "\n",
    "# Styling\n",
    "ax.set_yticks(y)\n",
    "ax.set_yticklabels(variables)\n",
    "ax.invert_yaxis()\n",
    "ax.set_xlim(0.85, 1.20)\n",
    "ax.set_xlabel('TCO (BEV / ICEV)')\n",
    "ax.set_title('TCO Sensitivity Range for 30km Daily Distance')\n",
    "\n",
    "plt.tight_layout()\n",
    "\n",
    "# Save as PNG at high resolution (optional: dpi=300 for sharp PowerPoint)\n",
    "plt.savefig('tco_sensitivity_30km.png', dpi=300)\n",
    "plt.close()\n",
    "plt.show()\n"
   ]
  },
  {
   "cell_type": "code",
   "execution_count": 112,
   "id": "b23ccce4",
   "metadata": {},
   "outputs": [
    {
     "name": "stdout",
     "output_type": "stream",
     "text": [
      "\n",
      "===== Warm-up Phase =====\n",
      "Epoch [1/10] Loss: 1.1434\n",
      "Epoch [2/10] Loss: 0.9897\n",
      "Epoch [3/10] Loss: 0.9079\n",
      "Epoch [4/10] Loss: 0.8387\n",
      "Epoch [5/10] Loss: 0.8626\n",
      "Epoch [6/10] Loss: 0.8053\n",
      "Epoch [7/10] Loss: 0.7631\n",
      "Epoch [8/10] Loss: 0.7552\n",
      "Epoch [9/10] Loss: 0.7402\n",
      "Epoch [10/10] Loss: 0.7449\n",
      "\n",
      "===== Fine-Tuning Phase =====\n",
      "Epoch [1/20] Loss: 0.8132\n",
      "Epoch [2/20] Loss: 0.4748\n",
      "Epoch [3/20] Loss: 0.2828\n",
      "Epoch [4/20] Loss: 0.1916\n",
      "Epoch [5/20] Loss: 0.1420\n",
      "Epoch [6/20] Loss: 0.1038\n",
      "Epoch [7/20] Loss: 0.1088\n",
      "Epoch [8/20] Loss: 0.1075\n",
      "Epoch [9/20] Loss: 0.0933\n",
      "Epoch [10/20] Loss: 0.0973\n",
      "Epoch [11/20] Loss: 0.0976\n",
      "Epoch [12/20] Loss: 0.0857\n",
      "Epoch [13/20] Loss: 0.0871\n",
      "Epoch [14/20] Loss: 0.0942\n",
      "Epoch [15/20] Loss: 0.0959\n",
      "Epoch [16/20] Loss: 0.1069\n",
      "Epoch [17/20] Loss: 0.0968\n",
      "Epoch [18/20] Loss: 0.0857\n",
      "Epoch [19/20] Loss: 0.0865\n",
      "Epoch [20/20] Loss: 0.0959\n",
      "\n",
      "Model saved to checkpoints/vit_finetuned.pth\n"
     ]
    }
   ],
   "source": [
    "import torch\n",
    "import torch.nn as nn\n",
    "import torch.optim as optim\n",
    "from torch.utils.data import DataLoader\n",
    "import torchvision.transforms as transforms\n",
    "import torchvision.datasets as datasets\n",
    "import timm\n",
    "import os\n",
    "\n",
    "# For reproduce the result\n",
    "torch.manual_seed(1220)\n",
    "random.seed(1220)\n",
    "np.random.seed(1220)\n",
    "\n",
    "# ----------------------------- CONFIG ----------------------------- #\n",
    "device = torch.device(\"cuda\" if torch.cuda.is_available() else \"cpu\")\n",
    "num_classes = 3\n",
    "warmup_epochs = 10\n",
    "finetune_epochs = 20\n",
    "batch_size = 32\n",
    "\n",
    "# ----------------------------- DATASET ----------------------------- #\n",
    "train_transform = transforms.Compose([\n",
    "    transforms.Resize((224, 224)),\n",
    "    #transforms.RandomHorizontalFlip(),\n",
    "    transforms.ToTensor(),\n",
    "    transforms.Normalize((0.5, 0.5, 0.5), (0.5, 0.5, 0.5))\n",
    "])\n",
    "\n",
    "val_transform = transforms.Compose([\n",
    "    transforms.Resize((224, 224)),\n",
    "    transforms.ToTensor(),\n",
    "    transforms.Normalize((0.5, 0.5, 0.5), (0.5, 0.5, 0.5))\n",
    "])\n",
    "\n",
    "dataset_path = '/home/nobel0601/datasets/crack_hough'  # e.g., './data/cracks'\n",
    "full_dataset = datasets.ImageFolder(dataset_path, transform=train_transform)\n",
    "train_size = int(0.9 * len(full_dataset))\n",
    "val_size = len(full_dataset) - train_size\n",
    "train_set, val_set = torch.utils.data.random_split(full_dataset, [train_size, val_size])\n",
    "\n",
    "train_loader = DataLoader(train_set, batch_size=batch_size, shuffle=True, num_workers=2)\n",
    "val_loader = DataLoader(val_set, batch_size=batch_size, shuffle=False, num_workers=2)\n",
    "\n",
    "# ----------------------------- MODEL ----------------------------- #\n",
    "class CrackClassifier(nn.Module):\n",
    "    def __init__(self, num_classes):\n",
    "        super(CrackClassifier, self).__init__()\n",
    "        self.model = timm.create_model(\"vit_base_patch16_224\", pretrained=True)\n",
    "        self.model.head = nn.Linear(self.model.head.in_features, num_classes)\n",
    "\n",
    "    def forward(self, x):\n",
    "        return self.model(x)\n",
    "\n",
    "model = CrackClassifier(num_classes=num_classes).to(device)\n",
    "\n",
    "# ----------------------------- WARM-UP PHASE ----------------------------- #\n",
    "# Freeze backbone\n",
    "for param in model.model.parameters():\n",
    "    param.requires_grad = False\n",
    "for param in model.model.head.parameters():\n",
    "    param.requires_grad = True\n",
    "\n",
    "optimizer = optim.AdamW(filter(lambda p: p.requires_grad, model.parameters()), lr=1e-3)\n",
    "criterion = nn.CrossEntropyLoss()\n",
    "\n",
    "print(\"\\n===== Warm-up Phase =====\")\n",
    "for epoch in range(warmup_epochs):\n",
    "    model.train()\n",
    "    running_loss = 0.0\n",
    "    for inputs, labels in train_loader:\n",
    "        inputs, labels = inputs.to(device), labels.to(device)\n",
    "        optimizer.zero_grad()\n",
    "        outputs = model(inputs)\n",
    "        loss = criterion(outputs, labels)\n",
    "        loss.backward()\n",
    "        optimizer.step()\n",
    "        running_loss += loss.item()\n",
    "    print(f\"Epoch [{epoch+1}/{warmup_epochs}] Loss: {running_loss/len(train_loader):.4f}\")\n",
    "\n",
    "# ----------------------------- FINE-TUNING PHASE ----------------------------- #\n",
    "# Unfreeze entire model\n",
    "for param in model.parameters():\n",
    "    param.requires_grad = True\n",
    "\n",
    "optimizer = optim.AdamW(model.parameters(), lr=1e-5, weight_decay=0.01)\n",
    "\n",
    "print(\"\\n===== Fine-Tuning Phase =====\")\n",
    "for epoch in range(finetune_epochs):\n",
    "    model.train()\n",
    "    running_loss = 0.0\n",
    "    for inputs, labels in train_loader:\n",
    "        inputs, labels = inputs.to(device), labels.to(device)\n",
    "        optimizer.zero_grad()\n",
    "        outputs = model(inputs)\n",
    "        loss = criterion(outputs, labels)\n",
    "        loss.backward()\n",
    "        optimizer.step()\n",
    "        running_loss += loss.item()\n",
    "    print(f\"Epoch [{epoch+1}/{finetune_epochs}] Loss: {running_loss/len(train_loader):.4f}\")\n",
    "\n",
    "# ----------------------------- SAVE MODEL ----------------------------- #\n",
    "os.makedirs(\"checkpoints\", exist_ok=True)\n",
    "torch.save(model.state_dict(), \"checkpoints/vit_finetuned.pth\")\n",
    "print(\"\\nModel saved to checkpoints/vit_finetuned.pth\")\n"
   ]
  },
  {
   "cell_type": "code",
   "execution_count": 97,
   "id": "55eee8d6",
   "metadata": {},
   "outputs": [],
   "source": [
    "def evaluate(model, dataloader, device):\n",
    "    model.eval()\n",
    "    correct = 0\n",
    "    total = 0\n",
    "\n",
    "    with torch.no_grad():\n",
    "        for images, labels in dataloader:\n",
    "            images, labels = images.to(device), labels.to(device)\n",
    "            outputs = model(images)\n",
    "            _, predicted = torch.max(outputs.data, 1)\n",
    "            total += labels.size(0)\n",
    "            correct += (predicted == labels).sum().item()\n",
    "\n",
    "    accuracy = 100 * correct / total\n",
    "    print(f'Accuracy: {accuracy:.2f}%')\n",
    "    return accuracy"
   ]
  },
  {
   "cell_type": "code",
   "execution_count": 98,
   "id": "7b5e94e7",
   "metadata": {},
   "outputs": [
    {
     "name": "stdout",
     "output_type": "stream",
     "text": [
      "Accuracy: 58.54%\n"
     ]
    },
    {
     "data": {
      "text/plain": [
       "58.53658536585366"
      ]
     },
     "execution_count": 98,
     "metadata": {},
     "output_type": "execute_result"
    }
   ],
   "source": [
    "evaluate(model, valloader, device)\n"
   ]
  }
 ],
 "metadata": {
  "kernelspec": {
   "display_name": "base",
   "language": "python",
   "name": "python3"
  },
  "language_info": {
   "codemirror_mode": {
    "name": "ipython",
    "version": 3
   },
   "file_extension": ".py",
   "mimetype": "text/x-python",
   "name": "python",
   "nbconvert_exporter": "python",
   "pygments_lexer": "ipython3",
   "version": "3.12.9"
  }
 },
 "nbformat": 4,
 "nbformat_minor": 5
}
